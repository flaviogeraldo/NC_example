{
  "nbformat": 4,
  "nbformat_minor": 0,
  "metadata": {
    "colab": {
      "provenance": [],
      "authorship_tag": "ABX9TyNjz4X/QsZiiF+6qZe+QRdA",
      "include_colab_link": true
    },
    "kernelspec": {
      "name": "python3",
      "display_name": "Python 3"
    },
    "language_info": {
      "name": "python"
    }
  },
  "cells": [
    {
      "cell_type": "markdown",
      "metadata": {
        "id": "view-in-github",
        "colab_type": "text"
      },
      "source": [
        "<a href=\"https://colab.research.google.com/github/flaviogeraldo/NC_matlab/blob/main/NC.ipynb\" target=\"_parent\"><img src=\"https://colab.research.google.com/assets/colab-badge.svg\" alt=\"Open In Colab\"/></a>"
      ]
    },
    {
      "cell_type": "code",
      "execution_count": 89,
      "metadata": {
        "colab": {
          "base_uri": "https://localhost:8080/"
        },
        "id": "_LUII3ftotmy",
        "outputId": "a60c510a-8194-455a-af7b-25801ffcbdb7"
      },
      "outputs": [
        {
          "output_type": "stream",
          "name": "stdout",
          "text": [
            "0.0014315366743073428\n"
          ]
        }
      ],
      "source": [
        "import numpy as np\n",
        "R=np.array([0.05E+9, 0.1E+9, 0.25E+9, 0.25E+9, 0.25E+9]); #switch transmission rate\n",
        "T=np.array([40.96E-6, 40.96E-6, 20E-6+16.384E-6, 20E-6+8.192E-6, 20E-6+4.096E-6]); #fixed delay\n",
        "rho=np.array([1024E+03, 512E+03, 256E+03]); #flow cte rate\n",
        "sigma=np.array([1024, 4096, 2048]); #flow burst\n",
        "foi=0; #foi=flow of interest\n",
        "phi=np.array([0.5, 0.25, 0.25, 0.125, 0.0625]); #switch share for each queue\n",
        "# Preparation\n",
        "Rs=R*phi; #queue share\n",
        "rho_y=np.concatenate([rho[0:foi], rho[foi+1:]])\n",
        "rho_y=sum(rho_y);\n",
        "sigma_y=np.concatenate([sigma[0:foi], sigma[foi+1:]]);\n",
        "sigma_y=sum(sigma_y);\n",
        "S=len(R);\n",
        "# Initialization\n",
        "sigma_vector=np.zeros(S);\n",
        "S_list=np.arange(0,S);\n",
        "# For S switches\n",
        "for item in S_list:\n",
        "    if item==0:\n",
        "        sigma_vector[item]=sigma_y/Rs[item]\n",
        "    else:\n",
        "        sigma_vector[item]=(sigma_y+rho_y*sum(T[0:item]))/Rs[item]; #eq. 68\n",
        "\n",
        "razao1=sigma[foi]/min(Rs-rho_y);#eq. 67 part I\n",
        "razao2=sum(T)+sum(sigma_vector);#eq. 67 part II\n",
        "# Output\n",
        "delay=razao1+razao2;\n",
        "print(delay)"
      ]
    }
  ]
}